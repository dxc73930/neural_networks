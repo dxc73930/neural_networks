{
  "nbformat": 4,
  "nbformat_minor": 0,
  "metadata": {
    "colab": {
      "provenance": []
    },
    "kernelspec": {
      "name": "python3",
      "display_name": "Python 3"
    },
    "language_info": {
      "name": "python"
    }
  },
  "cells": [
    {
      "cell_type": "code",
      "source": [
        "def list_Comp(L1):\n",
        "  L2 = [(height*2.54) for height in L1]\n",
        "  return L2\n",
        "\n",
        "if __name__ == \"__main__\":\n",
        "  values = input(\"Enter Heights \")\n",
        "  L1 = list(map(int,values.split()))\n",
        "  print(list_Comp(L1))"
      ],
      "metadata": {
        "colab": {
          "base_uri": "https://localhost:8080/"
        },
        "id": "2SqVhKNRF5jP",
        "outputId": "939b1e68-0f7a-4fe7-f305-511e3f83e759"
      },
      "execution_count": 35,
      "outputs": [
        {
          "output_type": "stream",
          "name": "stdout",
          "text": [
            "Enter Heights 12 150 23\n",
            "[30.48, 381.0, 58.42]\n"
          ]
        }
      ]
    },
    {
      "cell_type": "code",
      "source": [
        "if __name__ == '__main__':\n",
        "  inputFile = '/content/sample_data/input.txt'\n",
        "  with open(inputFile,'r') as file:\n",
        "    content = file.read()\n",
        "  words = content.split()\n",
        "  words_count = {}\n",
        "  for word in words:\n",
        "    words_count[word] = words.count(word)\n",
        "  with open(\"output.txt\",'w') as file:\n",
        "    file.write(content)\n",
        "    for key,value in words_count.items():\n",
        "      file.write(key+\":\"+ str(value))\n",
        "      file.write(\"\\n\")\n",
        "\n"
      ],
      "metadata": {
        "id": "LOxDb1l5PNXX"
      },
      "execution_count": 34,
      "outputs": []
    },
    {
      "cell_type": "code",
      "execution_count": 33,
      "metadata": {
        "colab": {
          "base_uri": "https://localhost:8080/"
        },
        "id": "iiTjY5VHE1Ht",
        "outputId": "2dcb43e5-cf35-4f91-f86f-e87595a96c3b"
      },
      "outputs": [
        {
          "output_type": "stream",
          "name": "stdout",
          "text": [
            "Enter First Namedeepika\n",
            "Enter Last Namech\n",
            "deepika ch\n",
            "deiac\n"
          ]
        }
      ],
      "source": [
        "\n",
        "def full_name(first_name, last_name):\n",
        "  return first_name+\" \"+last_name\n",
        "def string_alternative(full_name):\n",
        "  return full_name[::2]\n",
        "if __name__ == \"__main__\":\n",
        "  first_name = input(\"Enter First Name\")\n",
        "  last_name = input(\"Enter Last Name\")\n",
        "  print(full_name(first_name, last_name))\n",
        "  print(string_alternative(full_name(first_name, last_name)))"
      ]
    }
  ]
}