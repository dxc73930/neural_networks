{
  "nbformat": 4,
  "nbformat_minor": 0,
  "metadata": {
    "colab": {
      "provenance": []
    },
    "kernelspec": {
      "name": "python3",
      "display_name": "Python 3"
    },
    "language_info": {
      "name": "python"
    }
  },
  "cells": [
    {
      "cell_type": "code",
      "execution_count": 15,
      "metadata": {
        "colab": {
          "base_uri": "https://localhost:8080/"
        },
        "id": "3uyxEEkfGvbR",
        "outputId": "66435408-b4dc-4132-af71-e349994efba0"
      },
      "outputs": [
        {
          "output_type": "stream",
          "name": "stdout",
          "text": [
            "3000\n",
            "3\n",
            "Deepika\n",
            "Management\n",
            "4000\n"
          ]
        }
      ],
      "source": [
        "#Employee class with name, family, salary and department as members\n",
        "class Employee():\n",
        "  data_members = 0\n",
        "  def __init__(self,name,family, salary, department):\n",
        "    self.name = name\n",
        "    self.family = family\n",
        "    self.salary = salary\n",
        "    self.department = department\n",
        "    Employee.data_members += 1\n",
        " #functions to  get all the members\n",
        "  def get_name(self):\n",
        "    return self.name\n",
        "  def get_family(self):\n",
        "    return self.family\n",
        "  def get_salary(self):\n",
        "    return self.salary\n",
        "  def get_department(self):\n",
        "    return self.department\n",
        "  #avg_salary returns the average salary of all the employees\n",
        "  def avg_salary(employees):\n",
        "    total_salary = sum(employee.get_salary() for employee in employees)\n",
        "    return total_salary // (len(employees))\n",
        "\n",
        "#FullTimeEmployee class is subclass of Employee, inherits all the members of it\n",
        "class FullTimeEmployee(Employee):\n",
        "  def __init__(self, name, family, salary, department):\n",
        "    super().__init__(name, family, salary, department)\n",
        "\n",
        "#created instances of Employee and FullTimeEmployee\n",
        "e1 = Employee(\"Deepika\", \"Cherukuri\", 2000, \"Sales Management\")\n",
        "e2 = Employee(\"Bhavya\", \"Roshini\", 3000, \"Management\")\n",
        "e3 = FullTimeEmployee(\"Kavya\", \"Pallavi\", 4000, \"Financial\")\n",
        "\n",
        "#created a list of employees to find average salary of all the employees\n",
        "employees = [e1, e2, e3]\n",
        "print(Employee.avg_salary(employees))\n",
        "\n",
        "#calling count of employees and fileds of each employee\n",
        "print(Employee.data_members)\n",
        "print(e1.get_name(), e2.get_department(), e3.get_salary(), sep= \"\\n\")"
      ]
    },
    {
      "cell_type": "code",
      "source": [
        "from numpy import random, arange\n",
        "\n",
        "#created an array of float between 1 to 20\n",
        "r_array = random.uniform(1, 20,20 )\n",
        "print(\"array before reshaping and replacing the max value:\", r_array, sep = \"\\n\")\n",
        "\n",
        "#reshaping the arrapy to matrix 4x5\n",
        "r_array = r_array.reshape(4,5)\n",
        "\n",
        "#findng the maximum value in each row and substituting with zero\n",
        "max_col_indices = r_array.argmax(axis=1)\n",
        "r_array[arange(r_array.shape[0]), max_col_indices] = 0\n",
        "print(\"array after reshaping and replacing the max value:\", r_array, sep = \"\\n\")\n",
        "\n"
      ],
      "metadata": {
        "colab": {
          "base_uri": "https://localhost:8080/"
        },
        "id": "Cw6OK3hZRKl8",
        "outputId": "ab74a815-4796-4525-9978-4370099621ba"
      },
      "execution_count": 11,
      "outputs": [
        {
          "output_type": "stream",
          "name": "stdout",
          "text": [
            "array before reshaping and replacing the max value:\n",
            "[16.98941579  1.33854331 12.62232812  9.07868665 12.26516993  2.5192881\n",
            " 14.0629181  11.35682318 13.21010547  6.89434997 19.97420789 19.62578577\n",
            " 16.76958152 11.03980051  2.4811258   7.32348988  8.97628573  9.66976273\n",
            " 16.7047351   1.3796053 ]\n",
            "array after reshaping and replacing the max value:\n",
            "[[ 0.          1.33854331 12.62232812  9.07868665 12.26516993]\n",
            " [ 2.5192881   0.         11.35682318 13.21010547  6.89434997]\n",
            " [ 0.         19.62578577 16.76958152 11.03980051  2.4811258 ]\n",
            " [ 7.32348988  8.97628573  9.66976273  0.          1.3796053 ]]\n"
          ]
        }
      ]
    }
  ]
}